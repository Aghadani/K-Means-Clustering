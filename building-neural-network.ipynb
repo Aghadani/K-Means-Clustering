{
 "cells": [
  {
   "cell_type": "code",
   "execution_count": 1,
   "id": "16e66a22",
   "metadata": {
    "execution": {
     "iopub.execute_input": "2025-10-05T07:09:38.024603Z",
     "iopub.status.busy": "2025-10-05T07:09:38.024284Z",
     "iopub.status.idle": "2025-10-05T07:09:39.572856Z",
     "shell.execute_reply": "2025-10-05T07:09:39.572049Z"
    },
    "papermill": {
     "duration": 1.55542,
     "end_time": "2025-10-05T07:09:39.574477",
     "exception": false,
     "start_time": "2025-10-05T07:09:38.019057",
     "status": "completed"
    },
    "tags": []
   },
   "outputs": [],
   "source": [
    "# ===== IMPORTS =====\n",
    "import numpy as np\n",
    "import matplotlib.pyplot as plt\n",
    "from sklearn.datasets import load_digits\n",
    "from sklearn.model_selection import train_test_split\n",
    "from sklearn.preprocessing import MinMaxScaler, OneHotEncoder\n",
    "import warnings\n",
    "warnings.filterwarnings(\"ignore\")"
   ]
  },
  {
   "cell_type": "code",
   "execution_count": 2,
   "id": "5c469a44",
   "metadata": {
    "execution": {
     "iopub.execute_input": "2025-10-05T07:09:39.582604Z",
     "iopub.status.busy": "2025-10-05T07:09:39.582186Z",
     "iopub.status.idle": "2025-10-05T07:09:39.672154Z",
     "shell.execute_reply": "2025-10-05T07:09:39.671329Z"
    },
    "papermill": {
     "duration": 0.095801,
     "end_time": "2025-10-05T07:09:39.673871",
     "exception": false,
     "start_time": "2025-10-05T07:09:39.578070",
     "status": "completed"
    },
    "tags": []
   },
   "outputs": [],
   "source": [
    "# ===== NEURAL NETWORK CLASS =====\n",
    "class NeuralNetwork:\n",
    "    \"\"\"\n",
    "    A simple neural network with one hidden layer built from scratch.\n",
    "    \"\"\"\n",
    "    def __init__(self, input_size, hidden_size, output_size, loss_func='mse'):\n",
    "        self.input_size = input_size\n",
    "        self.hidden_size = hidden_size\n",
    "        self.output_size = output_size\n",
    "        self.loss_func = loss_func\n",
    "        \n",
    "        # Initialize weights and biases with random values\n",
    "        self.weights1 = np.random.randn(self.input_size, self.hidden_size) * 0.1\n",
    "        self.bias1 = np.zeros((1, self.hidden_size))\n",
    "        self.weights2 = np.random.randn(self.hidden_size, self.output_size) * 0.1\n",
    "        self.bias2 = np.zeros((1, self.output_size))\n",
    "        \n",
    "        # Track loss\n",
    "        self.train_loss = []\n",
    "        self.test_loss = []\n",
    "    \n",
    "    def __str__(self):\n",
    "        return f\"Neural Network Layout:\\nInput Layer: {self.input_size} neurons\\nHidden Layer: {self.hidden_size} neurons\\nOutput Layer: {self.output_size} neurons\\nLoss Function: {self.loss_func}\"\n",
    "    \n",
    "    def forward(self, X):\n",
    "        \"\"\"Perform forward propagation\"\"\"\n",
    "        # Hidden layer\n",
    "        self.z1 = np.dot(X, self.weights1) + self.bias1\n",
    "        self.a1 = self.sigmoid(self.z1)\n",
    "        \n",
    "        # Output layer\n",
    "        self.z2 = np.dot(self.a1, self.weights2) + self.bias2\n",
    "        \n",
    "        # Apply appropriate activation function based on loss\n",
    "        if self.loss_func == 'categorical_crossentropy':\n",
    "            self.a2 = self.softmax(self.z2)\n",
    "        else:\n",
    "            self.a2 = self.sigmoid(self.z2)\n",
    "        \n",
    "        return self.a2\n",
    "    \n",
    "    def backward(self, X, y, learning_rate):\n",
    "        \"\"\"Perform backpropagation and update weights\"\"\"\n",
    "        m = X.shape[0]  # Number of samples\n",
    "        \n",
    "        # Calculate output layer gradients\n",
    "        if self.loss_func == 'mse':\n",
    "            self.dz2 = self.a2 - y\n",
    "        elif self.loss_func == 'log_loss':\n",
    "            self.dz2 = -(y/self.a2 - (1-y)/(1-self.a2))\n",
    "        elif self.loss_func == 'categorical_crossentropy':\n",
    "            self.dz2 = self.a2 - y\n",
    "        else:\n",
    "            raise ValueError('Invalid loss function')\n",
    "        \n",
    "        # Calculate gradients for output layer\n",
    "        self.dw2 = (1 / m) * np.dot(self.a1.T, self.dz2)\n",
    "        self.db2 = (1 / m) * np.sum(self.dz2, axis=0, keepdims=True)\n",
    "        \n",
    "        # Calculate gradients for hidden layer\n",
    "        self.dz1 = np.dot(self.dz2, self.weights2.T) * self.sigmoid_derivative(self.a1)\n",
    "        self.dw1 = (1 / m) * np.dot(X.T, self.dz1)\n",
    "        self.db1 = (1 / m) * np.sum(self.dz1, axis=0, keepdims=True)\n",
    "        \n",
    "        # Update weights and biases\n",
    "        self.weights2 -= learning_rate * self.dw2\n",
    "        self.bias2 -= learning_rate * self.db2\n",
    "        self.weights1 -= learning_rate * self.dw1\n",
    "        self.bias1 -= learning_rate * self.db1\n",
    "    \n",
    "    def sigmoid(self, x):\n",
    "        \"\"\"Sigmoid activation function\"\"\"\n",
    "        return 1 / (1 + np.exp(-np.clip(x, -250, 250)))  # Clip to prevent overflow\n",
    "    \n",
    "    def sigmoid_derivative(self, x):\n",
    "        \"\"\"Derivative of sigmoid function\"\"\"\n",
    "        return x * (1 - x)\n",
    "    \n",
    "    def softmax(self, x):\n",
    "        \"\"\"Softmax activation function\"\"\"\n",
    "        exps = np.exp(x - np.max(x, axis=1, keepdims=True))  # Stability trick\n",
    "        return exps / np.sum(exps, axis=1, keepdims=True)"
   ]
  },
  {
   "cell_type": "code",
   "execution_count": 3,
   "id": "02b68459",
   "metadata": {
    "execution": {
     "iopub.execute_input": "2025-10-05T07:09:39.681710Z",
     "iopub.status.busy": "2025-10-05T07:09:39.681365Z",
     "iopub.status.idle": "2025-10-05T07:09:39.690358Z",
     "shell.execute_reply": "2025-10-05T07:09:39.689384Z"
    },
    "papermill": {
     "duration": 0.014737,
     "end_time": "2025-10-05T07:09:39.691945",
     "exception": false,
     "start_time": "2025-10-05T07:09:39.677208",
     "status": "completed"
    },
    "tags": []
   },
   "outputs": [],
   "source": [
    "# ===== TRAINER CLASS =====\n",
    "class Trainer:\n",
    "    \"\"\"Class to train the neural network\"\"\"\n",
    "    def __init__(self, model, loss_func='mse'):\n",
    "        self.model = model\n",
    "        self.loss_func = loss_func\n",
    "        self.train_loss = []\n",
    "        self.test_loss = []\n",
    "    \n",
    "    def calculate_loss(self, y_true, y_pred):\n",
    "        \"\"\"Calculate loss based on specified loss function\"\"\"\n",
    "        if self.loss_func == 'mse':\n",
    "            return np.mean((y_pred - y_true)**2)\n",
    "        elif self.loss_func == 'log_loss':\n",
    "            # Add small epsilon to prevent log(0)\n",
    "            epsilon = 1e-15\n",
    "            y_pred = np.clip(y_pred, epsilon, 1 - epsilon)\n",
    "            return -np.mean(y_true * np.log(y_pred) + (1 - y_true) * np.log(1 - y_pred))\n",
    "        elif self.loss_func == 'categorical_crossentropy':\n",
    "            epsilon = 1e-15\n",
    "            y_pred = np.clip(y_pred, epsilon, 1 - epsilon)\n",
    "            return -np.mean(np.sum(y_true * np.log(y_pred), axis=1))\n",
    "        else:\n",
    "            raise ValueError('Invalid loss function')\n",
    "    \n",
    "    def train(self, X_train, y_train, X_test, y_test, epochs, learning_rate):\n",
    "        \"\"\"Train the neural network\"\"\"\n",
    "        print(f\"Training Neural Network for {epochs} epochs...\")\n",
    "        \n",
    "        for epoch in range(epochs):\n",
    "            # Forward and backward pass on training data\n",
    "            self.model.forward(X_train)\n",
    "            self.model.backward(X_train, y_train, learning_rate)\n",
    "            \n",
    "            # Calculate training loss\n",
    "            train_pred = self.model.forward(X_train)\n",
    "            train_loss = self.calculate_loss(y_train, train_pred)\n",
    "            self.train_loss.append(train_loss)\n",
    "            \n",
    "            # Calculate test loss\n",
    "            test_pred = self.model.forward(X_test)\n",
    "            test_loss = self.calculate_loss(y_test, test_pred)\n",
    "            self.test_loss.append(test_loss)\n",
    "            \n",
    "            # Print progress every 100 epochs\n",
    "            if epoch % 100 == 0:\n",
    "                print(f\"Epoch {epoch}: Train Loss = {train_loss:.4f}, Test Loss = {test_loss:.4f}\")"
   ]
  },
  {
   "cell_type": "code",
   "execution_count": 4,
   "id": "2c464a3c",
   "metadata": {
    "execution": {
     "iopub.execute_input": "2025-10-05T07:09:39.699918Z",
     "iopub.status.busy": "2025-10-05T07:09:39.699107Z",
     "iopub.status.idle": "2025-10-05T07:09:39.723759Z",
     "shell.execute_reply": "2025-10-05T07:09:39.722665Z"
    },
    "papermill": {
     "duration": 0.03005,
     "end_time": "2025-10-05T07:09:39.725302",
     "exception": false,
     "start_time": "2025-10-05T07:09:39.695252",
     "status": "completed"
    },
    "tags": []
   },
   "outputs": [
    {
     "name": "stdout",
     "output_type": "stream",
     "text": [
      "📊 Loading Digits Dataset...\n",
      "Dataset shape: (1797, 64)\n",
      "Number of classes: 10\n",
      "Classes: [0 1 2 3 4 5 6 7 8 9]\n"
     ]
    }
   ],
   "source": [
    "# ===== LOAD AND EXPLORE DATASET =====\n",
    "print(\"📊 Loading Digits Dataset...\")\n",
    "digits = load_digits()\n",
    "\n",
    "print(f\"Dataset shape: {digits.data.shape}\")\n",
    "print(f\"Number of classes: {len(np.unique(digits.target))}\")\n",
    "print(f\"Classes: {np.unique(digits.target)}\")"
   ]
  },
  {
   "cell_type": "code",
   "execution_count": 5,
   "id": "970b1278",
   "metadata": {
    "execution": {
     "iopub.execute_input": "2025-10-05T07:09:39.732902Z",
     "iopub.status.busy": "2025-10-05T07:09:39.732576Z",
     "iopub.status.idle": "2025-10-05T07:09:40.423181Z",
     "shell.execute_reply": "2025-10-05T07:09:40.422141Z"
    },
    "papermill": {
     "duration": 0.696314,
     "end_time": "2025-10-05T07:09:40.424899",
     "exception": false,
     "start_time": "2025-10-05T07:09:39.728585",
     "status": "completed"
    },
    "tags": []
   },
   "outputs": [
    {
     "name": "stdout",
     "output_type": "stream",
     "text": [
      "\n",
      "🖼️ Visualizing sample digits...\n"
     ]
    },
    {
     "data": {
      "image/png": "[encoded data removed]",
      "text/plain": [
       "<Figure size 1200x500 with 10 Axes>"
      ]
     },
     "metadata": {},
     "output_type": "display_data"
    }
   ],
   "source": [
    "# Visualize first 10 images\n",
    "print(\"\\n🖼️ Visualizing sample digits...\")\n",
    "fig, axes = plt.subplots(2, 5, figsize=(12, 5))\n",
    "axes = axes.ravel()\n",
    "\n",
    "for i in range(10):\n",
    "    axes[i].imshow(digits.images[i], cmap='gray')\n",
    "    axes[i].set_title(f\"Label: {digits.target[i]}\")\n",
    "    axes[i].axis('off')\n",
    "\n",
    "plt.tight_layout()\n",
    "plt.show()"
   ]
  },
  {
   "cell_type": "code",
   "execution_count": 6,
   "id": "73a50461",
   "metadata": {
    "execution": {
     "iopub.execute_input": "2025-10-05T07:09:40.433387Z",
     "iopub.status.busy": "2025-10-05T07:09:40.433099Z",
     "iopub.status.idle": "2025-10-05T07:09:40.459921Z",
     "shell.execute_reply": "2025-10-05T07:09:40.458872Z"
    },
    "papermill": {
     "duration": 0.03285,
     "end_time": "2025-10-05T07:09:40.461451",
     "exception": false,
     "start_time": "2025-10-05T07:09:40.428601",
     "status": "completed"
    },
    "tags": []
   },
   "outputs": [
    {
     "name": "stdout",
     "output_type": "stream",
     "text": [
      "\n",
      "🧹 Preprocessing data...\n",
      "Training set: (1437, 64)\n",
      "Test set: (360, 64)\n"
     ]
    }
   ],
   "source": [
    "# ===== DATA PREPROCESSING =====\n",
    "print(\"\\n🧹 Preprocessing data...\")\n",
    "\n",
    "# Normalize features to [0, 1] range\n",
    "scaler = MinMaxScaler()\n",
    "X = scaler.fit_transform(digits.data)\n",
    "\n",
    "# One-hot encode targets\n",
    "encoder = OneHotEncoder(sparse_output=False)\n",
    "y_onehot = encoder.fit_transform(digits.target.reshape(-1, 1))\n",
    "\n",
    "# Split data\n",
    "X_train, X_test, y_train, y_test = train_test_split(\n",
    "    X, y_onehot, test_size=0.2, random_state=42\n",
    ")\n",
    "\n",
    "print(f\"Training set: {X_train.shape}\")\n",
    "print(f\"Test set: {X_test.shape}\")"
   ]
  },
  {
   "cell_type": "code",
   "execution_count": 7,
   "id": "f92404fd",
   "metadata": {
    "execution": {
     "iopub.execute_input": "2025-10-05T07:09:40.470051Z",
     "iopub.status.busy": "2025-10-05T07:09:40.469429Z",
     "iopub.status.idle": "2025-10-05T07:09:40.475317Z",
     "shell.execute_reply": "2025-10-05T07:09:40.474344Z"
    },
    "papermill": {
     "duration": 0.011604,
     "end_time": "2025-10-05T07:09:40.476697",
     "exception": false,
     "start_time": "2025-10-05T07:09:40.465093",
     "status": "completed"
    },
    "tags": []
   },
   "outputs": [
    {
     "name": "stdout",
     "output_type": "stream",
     "text": [
      "\n",
      "🔄 Creating Neural Network...\n"
     ]
    }
   ],
   "source": [
    "# ===== CREATE AND TRAIN NEURAL NETWORK =====\n",
    "print(\"\\n🔄 Creating Neural Network...\")\n",
    "\n",
    "# Network parameters\n",
    "input_size = X.shape[1]\n",
    "hidden_size = 64\n",
    "output_size = len(np.unique(digits.target))\n",
    "loss_func = 'categorical_crossentropy'\n",
    "epochs = 1000\n",
    "learning_rate = 0.1"
   ]
  },
  {
   "cell_type": "code",
   "execution_count": 8,
   "id": "cded977b",
   "metadata": {
    "execution": {
     "iopub.execute_input": "2025-10-05T07:09:40.484973Z",
     "iopub.status.busy": "2025-10-05T07:09:40.484660Z",
     "iopub.status.idle": "2025-10-05T07:09:40.490167Z",
     "shell.execute_reply": "2025-10-05T07:09:40.489298Z"
    },
    "papermill": {
     "duration": 0.011141,
     "end_time": "2025-10-05T07:09:40.491454",
     "exception": false,
     "start_time": "2025-10-05T07:09:40.480313",
     "status": "completed"
    },
    "tags": []
   },
   "outputs": [
    {
     "name": "stdout",
     "output_type": "stream",
     "text": [
      "Neural Network Layout:\n",
      "Input Layer: 64 neurons\n",
      "Hidden Layer: 64 neurons\n",
      "Output Layer: 10 neurons\n",
      "Loss Function: categorical_crossentropy\n"
     ]
    }
   ],
   "source": [
    "# Create neural network\n",
    "nn = NeuralNetwork(input_size, hidden_size, output_size, loss_func)\n",
    "print(nn)"
   ]
  },
  {
   "cell_type": "code",
   "execution_count": 9,
   "id": "5fc10a8f",
   "metadata": {
    "execution": {
     "iopub.execute_input": "2025-10-05T07:09:40.500063Z",
     "iopub.status.busy": "2025-10-05T07:09:40.499752Z",
     "iopub.status.idle": "2025-10-05T07:09:45.553128Z",
     "shell.execute_reply": "2025-10-05T07:09:45.552272Z"
    },
    "papermill": {
     "duration": 5.059627,
     "end_time": "2025-10-05T07:09:45.554933",
     "exception": false,
     "start_time": "2025-10-05T07:09:40.495306",
     "status": "completed"
    },
    "tags": []
   },
   "outputs": [
    {
     "name": "stdout",
     "output_type": "stream",
     "text": [
      "Training Neural Network for 1000 epochs...\n",
      "Epoch 0: Train Loss = 2.3713, Test Loss = 2.3782\n",
      "Epoch 100: Train Loss = 2.1467, Test Loss = 2.1581\n",
      "Epoch 200: Train Loss = 1.9074, Test Loss = 1.9215\n",
      "Epoch 300: Train Loss = 1.5754, Test Loss = 1.5903\n",
      "Epoch 400: Train Loss = 1.2385, Test Loss = 1.2490\n",
      "Epoch 500: Train Loss = 0.9698, Test Loss = 0.9723\n",
      "Epoch 600: Train Loss = 0.7776, Test Loss = 0.7733\n",
      "Epoch 700: Train Loss = 0.6423, Test Loss = 0.6341\n",
      "Epoch 800: Train Loss = 0.5449, Test Loss = 0.5352\n",
      "Epoch 900: Train Loss = 0.4725, Test Loss = 0.4627\n"
     ]
    }
   ],
   "source": [
    "# Train neural network\n",
    "trainer = Trainer(nn, loss_func)\n",
    "trainer.train(X_train, y_train, X_test, y_test, epochs, learning_rate)"
   ]
  },
  {
   "cell_type": "code",
   "execution_count": 10,
   "id": "8d26670d",
   "metadata": {
    "execution": {
     "iopub.execute_input": "2025-10-05T07:09:45.565270Z",
     "iopub.status.busy": "2025-10-05T07:09:45.564424Z",
     "iopub.status.idle": "2025-10-05T07:09:45.572452Z",
     "shell.execute_reply": "2025-10-05T07:09:45.571603Z"
    },
    "papermill": {
     "duration": 0.014709,
     "end_time": "2025-10-05T07:09:45.574023",
     "exception": false,
     "start_time": "2025-10-05T07:09:45.559314",
     "status": "completed"
    },
    "tags": []
   },
   "outputs": [
    {
     "name": "stdout",
     "output_type": "stream",
     "text": [
      "\n",
      "📊 Evaluating Model Performance...\n",
      "🎯 Final Test Accuracy: 91.67%\n"
     ]
    }
   ],
   "source": [
    "# ===== EVALUATE MODEL =====\n",
    "print(\"\\n📊 Evaluating Model Performance...\")\n",
    "\n",
    "# Convert one-hot encoded test labels back to integers\n",
    "y_test_labels = np.argmax(y_test, axis=1)\n",
    "\n",
    "# Make predictions\n",
    "predictions = np.argmax(nn.forward(X_test), axis=1)\n",
    "accuracy = np.mean(predictions == y_test_labels)\n",
    "\n",
    "print(f\"🎯 Final Test Accuracy: {accuracy:.2%}\")"
   ]
  },
  {
   "cell_type": "code",
   "execution_count": 11,
   "id": "4579178b",
   "metadata": {
    "execution": {
     "iopub.execute_input": "2025-10-05T07:09:45.586155Z",
     "iopub.status.busy": "2025-10-05T07:09:45.585834Z",
     "iopub.status.idle": "2025-10-05T07:09:45.802416Z",
     "shell.execute_reply": "2025-10-05T07:09:45.801625Z"
    },
    "papermill": {
     "duration": 0.224588,
     "end_time": "2025-10-05T07:09:45.804311",
     "exception": false,
     "start_time": "2025-10-05T07:09:45.579723",
     "status": "completed"
    },
    "tags": []
   },
   "outputs": [
    {
     "name": "stdout",
     "output_type": "stream",
     "text": [
      "\n",
      "🔍 Sample Predictions:\n",
      "True labels: [6 9 3 7 2 1 5 2 5 2]\n",
      "Predicted:   [6 9 3 7 2 2 5 2 5 2]\n",
      "\n",
      "📈 Plotting Training Progress...\n"
     ]
    },
    {
     "data": {
      "image/png": "[encoded data removed]",
      "text/plain": [
       "<Figure size 1000x600 with 1 Axes>"
      ]
     },
     "metadata": {},
     "output_type": "display_data"
    }
   ],
   "source": [
    "# Display some predictions\n",
    "print(\"\\n🔍 Sample Predictions:\")\n",
    "print(\"True labels:\", y_test_labels[:10])\n",
    "print(\"Predicted:  \", predictions[:10])\n",
    "\n",
    "# ===== PLOT TRAINING LOSS =====\n",
    "print(\"\\n📈 Plotting Training Progress...\")\n",
    "plt.figure(figsize=(10, 6))\n",
    "plt.plot(trainer.train_loss, label='Train Loss', alpha=0.7)\n",
    "plt.plot(trainer.test_loss, label='Test Loss', alpha=0.7)\n",
    "plt.title('Neural Network Training Progress')\n",
    "plt.xlabel('Epochs')\n",
    "plt.ylabel('Loss')\n",
    "plt.legend()\n",
    "plt.grid(True, alpha=0.3)\n",
    "plt.show()"
   ]
  },
  {
   "cell_type": "code",
   "execution_count": 12,
   "id": "dffa2291",
   "metadata": {
    "execution": {
     "iopub.execute_input": "2025-10-05T07:09:45.816497Z",
     "iopub.status.busy": "2025-10-05T07:09:45.815684Z",
     "iopub.status.idle": "2025-10-05T07:09:48.610377Z",
     "shell.execute_reply": "2025-10-05T07:09:48.609418Z"
    },
    "papermill": {
     "duration": 2.802357,
     "end_time": "2025-10-05T07:09:48.612072",
     "exception": false,
     "start_time": "2025-10-05T07:09:45.809715",
     "status": "completed"
    },
    "tags": []
   },
   "outputs": [
    {
     "name": "stdout",
     "output_type": "stream",
     "text": [
      "\n",
      "📋 Generating Confusion Matrix...\n"
     ]
    },
    {
     "data": {
      "image/png": "[encoded data removed]",
      "text/plain": [
       "<Figure size 800x600 with 2 Axes>"
      ]
     },
     "metadata": {},
     "output_type": "display_data"
    }
   ],
   "source": [
    "# ===== CONFUSION MATRIX (Optional) =====\n",
    "print(\"\\n📋 Generating Confusion Matrix...\")\n",
    "from sklearn.metrics import confusion_matrix, classification_report\n",
    "import seaborn as sns\n",
    "\n",
    "cm = confusion_matrix(y_test_labels, predictions)\n",
    "plt.figure(figsize=(8, 6))\n",
    "sns.heatmap(cm, annot=True, fmt='d', cmap='Blues', \n",
    "            xticklabels=range(10), yticklabels=range(10))\n",
    "plt.title('Confusion Matrix')\n",
    "plt.xlabel('Predicted')\n",
    "plt.ylabel('Actual')\n",
    "plt.show()"
   ]
  },
  {
   "cell_type": "code",
   "execution_count": 13,
   "id": "16f51254",
   "metadata": {
    "_cell_guid": "b1076dfc-b9ad-4769-8c92-a6c4dae69d19",
    "_uuid": "8f2839f25d086af736a60e9eeb907d3b93b6e0e5",
    "execution": {
     "iopub.execute_input": "2025-10-05T07:09:48.626889Z",
     "iopub.status.busy": "2025-10-05T07:09:48.626414Z",
     "iopub.status.idle": "2025-10-05T07:09:48.639069Z",
     "shell.execute_reply": "2025-10-05T07:09:48.638007Z"
    },
    "papermill": {
     "duration": 0.021108,
     "end_time": "2025-10-05T07:09:48.640626",
     "exception": false,
     "start_time": "2025-10-05T07:09:48.619518",
     "status": "completed"
    },
    "tags": []
   },
   "outputs": [
    {
     "name": "stdout",
     "output_type": "stream",
     "text": [
      "\n",
      "📄 Classification Report:\n",
      "              precision    recall  f1-score   support\n",
      "\n",
      "           0       0.97      0.94      0.95        33\n",
      "           1       0.73      0.86      0.79        28\n",
      "           2       0.91      0.97      0.94        33\n",
      "           3       1.00      0.91      0.95        34\n",
      "           4       0.96      0.96      0.96        46\n",
      "           5       0.93      0.91      0.92        47\n",
      "           6       0.97      0.97      0.97        35\n",
      "           7       0.94      0.97      0.96        34\n",
      "           8       0.92      0.80      0.86        30\n",
      "           9       0.83      0.85      0.84        40\n",
      "\n",
      "    accuracy                           0.92       360\n",
      "   macro avg       0.92      0.91      0.91       360\n",
      "weighted avg       0.92      0.92      0.92       360\n",
      "\n",
      "\n",
      "✅ Neural Network Training Completed Successfully!\n"
     ]
    }
   ],
   "source": [
    "# Print classification report\n",
    "print(\"\\n📄 Classification Report:\")\n",
    "print(classification_report(y_test_labels, predictions))\n",
    "\n",
    "print(\"\\n✅ Neural Network Training Completed Successfully!\")"
   ]
  }
 ],
 "metadata": {
  "kaggle": {
   "accelerator": "none",
   "dataSources": [],
   "dockerImageVersionId": 31089,
   "isGpuEnabled": false,
   "isInternetEnabled": true,
   "language": "python",
   "sourceType": "notebook"
  },
  "kernelspec": {
   "display_name": "Python 3",
   "language": "python",
   "name": "python3"
  },
  "language_info": {
   "codemirror_mode": {
    "name": "ipython",
    "version": 3
   },
   "file_extension": ".py",
   "mimetype": "text/x-python",
   "name": "python",
   "nbconvert_exporter": "python",
   "pygments_lexer": "ipython3",
   "version": "3.11.13"
  },
  "papermill": {
   "default_parameters": {},
   "duration": 16.63668,
   "end_time": "2025-10-05T07:09:49.366005",
   "environment_variables": {},
   "exception": null,
   "input_path": "__notebook__.ipynb",
   "output_path": "__notebook__.ipynb",
   "parameters": {},
   "start_time": "2025-10-05T07:09:32.729325",
   "version": "2.6.0"
  }
 },
 "nbformat": 4,
 "nbformat_minor": 5
}
